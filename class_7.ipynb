{
 "cells": [
  {
   "cell_type": "markdown",
   "metadata": {},
   "source": [
    "# Advanced Python Meta Programming and Beyond\n",
    "\n",
    "## What will we learn in this class?\n",
    "\n",
    "* Decorators\n",
    "* Context Managers\n",
    "* Factories\n",
    "* Big Dat with Dask"
   ]
  },
  {
   "cell_type": "markdown",
   "metadata": {},
   "source": [
    "## Decorators\n",
    "Functions and methods are called callable as they can be called.\n",
    "\n",
    "In fact, any object which implements the special __call__() method is termed callable. So, in the most basic sense, a decorator is a callable that returns a callable.\n",
    "\n",
    "Basically, a decorator takes in a function, adds some functionality and returns it.\n",
    "\n",
    "\n",
    "source:"
   ]
  },
  {
   "cell_type": "code",
   "execution_count": 1,
   "metadata": {},
   "outputs": [],
   "source": [
    "def make_pretty(func):\n",
    "    def inner():\n",
    "        print(\"I got decorated\")\n",
    "        func()\n",
    "    return inner\n",
    "\n",
    "\n",
    "def ordinary():\n",
    "    print(\"I am ordinary\")"
   ]
  },
  {
   "cell_type": "code",
   "execution_count": 2,
   "metadata": {},
   "outputs": [
    {
     "name": "stdout",
     "output_type": "stream",
     "text": [
      "I am ordinary\n"
     ]
    }
   ],
   "source": [
    "ordinary()\n"
   ]
  },
  {
   "cell_type": "code",
   "execution_count": 3,
   "metadata": {},
   "outputs": [],
   "source": [
    "pretty = make_pretty(ordinary)"
   ]
  },
  {
   "cell_type": "code",
   "execution_count": 4,
   "metadata": {},
   "outputs": [
    {
     "name": "stdout",
     "output_type": "stream",
     "text": [
      "I got decorated\n",
      "I am ordinary\n"
     ]
    }
   ],
   "source": [
    "pretty()"
   ]
  },
  {
   "cell_type": "markdown",
   "metadata": {},
   "source": [
    "We can use the @ symbol along with the name of the decorator function and place it above the definition of the function to be decorated. For example,"
   ]
  },
  {
   "cell_type": "code",
   "execution_count": 6,
   "metadata": {},
   "outputs": [
    {
     "name": "stdout",
     "output_type": "stream",
     "text": [
      "I got decorated\n",
      "I am ordinary\n"
     ]
    }
   ],
   "source": [
    "@make_pretty\n",
    "def ordinary():\n",
    "    print(\"I am ordinary\")\n",
    "ordinary()"
   ]
  },
  {
   "cell_type": "markdown",
   "metadata": {},
   "source": [
    "## Decorating Functions with Parameters\n",
    "The above decorator was simple and it only worked with functions that did not have any parameters. What if we had functions that took in parameters like:"
   ]
  },
  {
   "cell_type": "code",
   "execution_count": 7,
   "metadata": {},
   "outputs": [],
   "source": [
    "def divide(a, b):\n",
    "    return a/b"
   ]
  },
  {
   "cell_type": "code",
   "execution_count": 8,
   "metadata": {},
   "outputs": [
    {
     "name": "stdout",
     "output_type": "stream",
     "text": [
      "I am going to divide 2 and 0\n",
      "Whoops! cannot divide\n"
     ]
    }
   ],
   "source": [
    "def smart_divide(func):\n",
    "    def inner(a, b):\n",
    "        print(\"I am going to divide\", a, \"and\", b)\n",
    "        if b == 0:\n",
    "            print(\"Whoops! cannot divide\")\n",
    "            return\n",
    "\n",
    "        return func(a, b)\n",
    "    return inner\n",
    "\n",
    "\n",
    "@smart_divide\n",
    "def divide(a, b):\n",
    "    print(a/b)\n",
    "    \n",
    "divide(2,0)"
   ]
  },
  {
   "cell_type": "markdown",
   "metadata": {},
   "source": [
    "Lets see a more practical example of usage of decorators. In this example we will see how we can clean and improve the readibility of our code using decorators and logging function\n",
    "    \n",
    "    "
   ]
  },
  {
   "cell_type": "code",
   "execution_count": 10,
   "metadata": {},
   "outputs": [],
   "source": [
    "import logging\n",
    "def create_logger():\n",
    "    \"\"\"\n",
    "    Creates a logging object and returns it\n",
    "    \"\"\"\n",
    "    logger = logging.getLogger(\"example_logger\")\n",
    "    logger.setLevel(logging.INFO)\n",
    "    # create the logging file handler\n",
    "    fh = logging.FileHandler(r\"test.log\")\n",
    "    fmt = '%(asctime)s - %(name)s - %(levelname)s - %(message)s'\n",
    "    formatter = logging.Formatter(fmt)\n",
    "    fh.setFormatter(formatter)\n",
    "    # add handler to logger object\n",
    "    logger.addHandler(fh)\n",
    "    return logger\n",
    "logger = create_logger()"
   ]
  },
  {
   "cell_type": "code",
   "execution_count": 11,
   "metadata": {},
   "outputs": [],
   "source": [
    "import functools\n",
    "def exception(logger):\n",
    "    \"\"\"\n",
    "    A decorator that wraps the passed in function and logs \n",
    "    exceptions should one occur\n",
    "    \n",
    "    @param logger: The logging object\n",
    "    \"\"\"\n",
    "    \n",
    "    def decorator(func):\n",
    "    \n",
    "        def wrapper(*args, **kwargs):\n",
    "            try:\n",
    "                return func(*args, **kwargs)\n",
    "            except:\n",
    "                # log the exception\n",
    "                err = \"There was an exception in  \"\n",
    "                err += func.__name__\n",
    "                logger.exception(err)\n",
    "            \n",
    "            # re-raise the exception\n",
    "            raise\n",
    "        return wrapper\n",
    "    return decorator"
   ]
  },
  {
   "cell_type": "code",
   "execution_count": 13,
   "metadata": {},
   "outputs": [
    {
     "name": "stdout",
     "output_type": "stream",
     "text": [
      "1.25\n"
     ]
    }
   ],
   "source": [
    "\n",
    "@exception(logger)\n",
    "def divide(a, b):\n",
    "    print(a/b)\n",
    "    \n",
    "divide(5,4)"
   ]
  },
  {
   "cell_type": "code",
   "execution_count": 15,
   "metadata": {},
   "outputs": [
    {
     "ename": "RuntimeError",
     "evalue": "No active exception to reraise",
     "output_type": "error",
     "traceback": [
      "\u001b[0;31m---------------------------------------------------------------------------\u001b[0m",
      "\u001b[0;31mRuntimeError\u001b[0m                              Traceback (most recent call last)",
      "\u001b[0;32m<ipython-input-15-75e110af52e6>\u001b[0m in \u001b[0;36m<module>\u001b[0;34m\u001b[0m\n\u001b[0;32m----> 1\u001b[0;31m \u001b[0mdivide\u001b[0m\u001b[0;34m(\u001b[0m\u001b[0;36m3\u001b[0m\u001b[0;34m,\u001b[0m\u001b[0;36m0\u001b[0m\u001b[0;34m)\u001b[0m\u001b[0;34m\u001b[0m\u001b[0;34m\u001b[0m\u001b[0m\n\u001b[0m",
      "\u001b[0;32m<ipython-input-11-1e9ab79c9d3e>\u001b[0m in \u001b[0;36mwrapper\u001b[0;34m(*args, **kwargs)\u001b[0m\n\u001b[1;32m     20\u001b[0m \u001b[0;34m\u001b[0m\u001b[0m\n\u001b[1;32m     21\u001b[0m             \u001b[0;31m# re-raise the exception\u001b[0m\u001b[0;34m\u001b[0m\u001b[0;34m\u001b[0m\u001b[0;34m\u001b[0m\u001b[0m\n\u001b[0;32m---> 22\u001b[0;31m             \u001b[0;32mraise\u001b[0m\u001b[0;34m\u001b[0m\u001b[0;34m\u001b[0m\u001b[0m\n\u001b[0m\u001b[1;32m     23\u001b[0m         \u001b[0;32mreturn\u001b[0m \u001b[0mwrapper\u001b[0m\u001b[0;34m\u001b[0m\u001b[0;34m\u001b[0m\u001b[0m\n\u001b[1;32m     24\u001b[0m     \u001b[0;32mreturn\u001b[0m \u001b[0mdecorator\u001b[0m\u001b[0;34m\u001b[0m\u001b[0;34m\u001b[0m\u001b[0m\n",
      "\u001b[0;31mRuntimeError\u001b[0m: No active exception to reraise"
     ]
    }
   ],
   "source": [
    "divide(3,0)"
   ]
  },
  {
   "cell_type": "markdown",
   "metadata": {},
   "source": [
    "## Context Managers\n",
    "\n",
    "Of all of the most commonly used Python constructs, context managers are neck-and-neck with decorators in a \"Things I use but don't really understand how they work\" contest. As every schoolchild will tell you, the canonical way to open and read from a file is:\n",
    "\n",
    "```\n",
    "with open('what_are_context_managers.txt', 'r') as infile:\n",
    "    for line in infile:\n",
    "        print('> {}'.format(line))\n",
    "\n",
    "```\n",
    "\n",
    "But how many of those who correctly handle file IO know why it's correct, or even that there's an incorrect way to do it\n",
    "\n",
    "Managing Resources\n",
    "\n",
    "Perhaps the most common (and important) use of context managers is to properly manage resources. In fact, that's the reason we use a context manager when reading from a file. To understand context managers lets explore the with protocol\n",
    "\n",
    "The with statement is a control-flow structure that allows us to encapsulate` try...except...finall`y blocks for convenient reuse\n",
    "\n",
    "The with statement supports a runtime context which is implemented through a pair of methods executed (1) before the statement body is entered (__enter__()) and (2) after the statement body is exited (__exit__())\n",
    "\n",
    "The context-expression requires an object that supports the context manager protocol, i.e. a class containing __enter__() and __exit__() methods. We can also point to a context manager written using generators and the contextmanager decorator.\n",
    "\n",
    "for a from scratch implementation of a context manager you can look here: \n",
    "https://alysivji.github.io/managing-resources-with-context-managers-pythonic.html\n",
    "\n",
    "lets look at the contextlib library"
   ]
  },
  {
   "cell_type": "code",
   "execution_count": 117,
   "metadata": {},
   "outputs": [],
   "source": [
    "from contextlib import contextmanager\n",
    "\n",
    "@contextmanager\n",
    "def session_scope():\n",
    "    \"\"\"Provide a transactional scope around a series of operations.\"\"\"\n",
    "    session = Session()\n",
    "    try:\n",
    "        yield session\n",
    "        session.commit()\n",
    "    except:\n",
    "        session.rollback()\n",
    "        raise\n",
    "    finally:\n",
    "        session.close()\n",
    "\n",
    "\n",
    "def run_my_program():\n",
    "    with session_scope() as session:\n",
    "        ThingOne().go(session)\n",
    "        ThingTwo().go(session)"
   ]
  },
  {
   "cell_type": "markdown",
   "metadata": {},
   "source": [
    "## Iterators\n",
    "\n",
    "Alexander Stepanov thought for years about the problem of generic programming techniques before creating the STL (along with Dave Musser). He came to the conclusion that all algorithms are defined on algebraic structures - what we would call containers.\n",
    "\n",
    "In the process, he realized that iterators are central to the use of algorithms, because they decouple the algorithms from the specific type of container that the algorithm might currently be working with. This means that you can describe the algorithm without worrying about the particular sequence it is operating on. More generally, any code that you write using iterators is decoupled from the data structure that the code is manipulating, and thus your code is more general and reusable.\n",
    "\n",
    "The use of iterators also extends your code into the realm of functional programming, whose objective is to describe what a program is doing at every step rather than how it is doing it. That is, you say “sort” rather than describing the sort. The objective of the C++ STL was to provide this generic programming approach for C++ (how successful this approach will actually be remains to be seen)\n",
    "\n",
    "### Create an Iterator\n",
    "\n",
    "To create an object/class as an iterator you have to implement the methods __iter__() and __next__() to your object.\n",
    "\n",
    "As you have learned in the Python Classes/Objects chapter, all classes have a function called __init__(), which allows you to do some initializing when the object is being created.\n",
    "\n",
    "The __iter__() method acts similar, you can do operations (initializing etc.), but must always return the iterator object itself.\n",
    "\n",
    "The __next__() method also allows you to do operations, and must return the next item in the sequence."
   ]
  },
  {
   "cell_type": "code",
   "execution_count": 118,
   "metadata": {},
   "outputs": [
    {
     "name": "stdout",
     "output_type": "stream",
     "text": [
      "1\n",
      "2\n",
      "3\n",
      "4\n",
      "5\n",
      "6\n",
      "7\n",
      "8\n",
      "9\n",
      "10\n",
      "11\n",
      "12\n",
      "13\n",
      "14\n",
      "15\n",
      "16\n",
      "17\n",
      "18\n",
      "19\n",
      "20\n"
     ]
    }
   ],
   "source": [
    "class MyNumbers:\n",
    "  def __iter__(self):\n",
    "    self.a = 1\n",
    "    return self\n",
    "\n",
    "  def __next__(self):\n",
    "    if self.a <= 20:\n",
    "      x = self.a\n",
    "      self.a += 1\n",
    "      return x\n",
    "    else:\n",
    "      raise StopIteration\n",
    "\n",
    "myclass = MyNumbers()\n",
    "myiter = iter(myclass)\n",
    "\n",
    "for x in myiter:\n",
    "  print(x)"
   ]
  },
  {
   "cell_type": "code",
   "execution_count": 119,
   "metadata": {},
   "outputs": [
    {
     "ename": "TypeError",
     "evalue": "'MyNumbers' object is not subscriptable",
     "output_type": "error",
     "traceback": [
      "\u001b[0;31m---------------------------------------------------------------------------\u001b[0m",
      "\u001b[0;31mTypeError\u001b[0m                                 Traceback (most recent call last)",
      "\u001b[0;32m<ipython-input-119-937275e5b135>\u001b[0m in \u001b[0;36m<module>\u001b[0;34m\u001b[0m\n\u001b[0;32m----> 1\u001b[0;31m \u001b[0mmyiter\u001b[0m\u001b[0;34m[\u001b[0m\u001b[0;36m0\u001b[0m\u001b[0;34m]\u001b[0m\u001b[0;34m\u001b[0m\u001b[0;34m\u001b[0m\u001b[0m\n\u001b[0m",
      "\u001b[0;31mTypeError\u001b[0m: 'MyNumbers' object is not subscriptable"
     ]
    }
   ],
   "source": [
    "myiter[0]"
   ]
  },
  {
   "cell_type": "markdown",
   "metadata": {},
   "source": [
    "## Factory: Encapsulating Object Creation## Factory Method\n"
   ]
  },
  {
   "cell_type": "code",
   "execution_count": 17,
   "metadata": {},
   "outputs": [
    {
     "name": "stdout",
     "output_type": "stream",
     "text": [
      "voiture\n",
      "car\n",
      "coche\n",
      "bicyclette\n",
      "bike\n",
      "bicicleta\n",
      "cyclette\n",
      "cycle\n",
      "ciclo\n"
     ]
    }
   ],
   "source": [
    "# Whats the issue with this code\n",
    "\n",
    "# Python Code for Object \n",
    "# Oriented Concepts without \n",
    "# using Factory method  \n",
    "  \n",
    "class FrenchLocalizer: \n",
    "  \n",
    "    \"\"\" it simply returns the french version \"\"\"\n",
    "  \n",
    "    def __init__(self): \n",
    "  \n",
    "        self.translations = {\"car\": \"voiture\", \"bike\": \"bicyclette\", \n",
    "                             \"cycle\":\"cyclette\"} \n",
    "  \n",
    "    def localize(self, message): \n",
    "  \n",
    "        \"\"\"change the message using translations\"\"\"\n",
    "        return self.translations.get(msg, msg) \n",
    "  \n",
    "class SpanishLocalizer: \n",
    "    \"\"\"it simply returns the spanish version\"\"\"\n",
    "  \n",
    "    def __init__(self): \n",
    "  \n",
    "        self.translations = {\"car\": \"coche\", \"bike\": \"bicicleta\", \n",
    "                             \"cycle\":\"ciclo\"} \n",
    "  \n",
    "    def localize(self, msg): \n",
    "  \n",
    "        \"\"\"change the message using translations\"\"\"\n",
    "        return self.translations.get(msg, msg) \n",
    "  \n",
    "class EnglishLocalizer: \n",
    "    \"\"\"Simply return the same message\"\"\"\n",
    "  \n",
    "    def localize(self, msg): \n",
    "        return msg \n",
    "  \n",
    "if __name__ == \"__main__\": \n",
    "  \n",
    "    # main method to call others \n",
    "    f = FrenchLocalizer() \n",
    "    e = EnglishLocalizer() \n",
    "    s = SpanishLocalizer() \n",
    "  \n",
    "    # list of strings \n",
    "    message = [\"car\", \"bike\", \"cycle\"] \n",
    "  \n",
    "    for msg in message: \n",
    "        print(f.localize(msg)) \n",
    "        print(e.localize(msg)) \n",
    "        print(s.localize(msg)) \n"
   ]
  },
  {
   "cell_type": "code",
   "execution_count": 19,
   "metadata": {},
   "outputs": [
    {
     "name": "stdout",
     "output_type": "stream",
     "text": [
      "voiture\n",
      "car\n",
      "coche\n",
      "bicyclette\n",
      "bike\n",
      "bicicleta\n",
      "cyclette\n",
      "cycle\n",
      "ciclo\n"
     ]
    }
   ],
   "source": [
    "#why is this one better\n",
    "  \n",
    "class FrenchLocalizer: \n",
    "  \n",
    "    \"\"\" it simply returns the french version \"\"\"\n",
    "  \n",
    "    def __init__(self): \n",
    "  \n",
    "        self.translations = {\"car\": \"voiture\", \"bike\": \"bicyclette\", \n",
    "                             \"cycle\":\"cyclette\"} \n",
    "  \n",
    "    def localize(self, message): \n",
    "  \n",
    "        \"\"\"change the message using translations\"\"\"\n",
    "        return self.translations.get(msg, msg) \n",
    "  \n",
    "class SpanishLocalizer: \n",
    "    \"\"\"it simply returns the spanish version\"\"\"\n",
    "  \n",
    "    def __init__(self): \n",
    "        self.translations = {\"car\": \"coche\", \"bike\": \"bicicleta\", \n",
    "                             \"cycle\":\"ciclo\"} \n",
    "  \n",
    "    def localize(self, msg): \n",
    "  \n",
    "        \"\"\"change the message using translations\"\"\"\n",
    "        return self.translations.get(msg, msg) \n",
    "  \n",
    "class EnglishLocalizer: \n",
    "    \"\"\"Simply return the same message\"\"\"\n",
    "  \n",
    "    def localize(self, msg): \n",
    "        return msg \n",
    "  \n",
    "def Factory(language =\"English\"): \n",
    "  \n",
    "    \"\"\"Factory Method\"\"\"\n",
    "    localizers = { \n",
    "        \"French\": FrenchLocalizer, \n",
    "        \"English\": EnglishLocalizer, \n",
    "        \"Spanish\": SpanishLocalizer, \n",
    "    } \n",
    "  \n",
    "    return localizers[language]() \n",
    "  \n",
    "if __name__ == \"__main__\": \n",
    "  \n",
    "    f = Factory(\"French\") \n",
    "    e = Factory(\"English\") \n",
    "    s = Factory(\"Spanish\") \n",
    "  \n",
    "    message = [\"car\", \"bike\", \"cycle\"] \n",
    "  \n",
    "    for msg in message: \n",
    "        print(f.localize(msg)) \n",
    "        print(e.localize(msg)) \n",
    "        \n",
    "        print(s.localize(msg)) "
   ]
  },
  {
   "cell_type": "markdown",
   "metadata": {},
   "source": [
    "factory Method is a Creational Design Pattern that allows an interface or a class to create an object, but let subclasses decide which class or object to instantiate. Using the Factory method, we have the best ways to create an object. Here, objects are created without exposing the logic to the client and for creating the new type of the object, the client uses the same common interface.\n",
    "\n",
    "\n",
    "## Simple Factory Method\n",
    "\n"
   ]
  },
  {
   "cell_type": "code",
   "execution_count": 112,
   "metadata": {},
   "outputs": [
    {
     "name": "stdout",
     "output_type": "stream",
     "text": [
      "Circle.draw\n",
      "Circle.erase\n",
      "Circle.draw\n",
      "Circle.erase\n",
      "Square.draw\n",
      "Square.erase\n",
      "Square.draw\n",
      "Square.erase\n",
      "Circle.draw\n",
      "Circle.erase\n",
      "Square.draw\n",
      "Square.erase\n",
      "Square.draw\n",
      "Square.erase\n"
     ]
    }
   ],
   "source": [
    "# Factory/shapefact1/ShapeFactory1.py\n",
    "# A simple static factory method.\n",
    "from __future__ import generators\n",
    "import random\n",
    "\n",
    "class Shape(object):\n",
    "    # Create based on class name:\n",
    "    def factory(type):\n",
    "        #return eval(type + \"()\")\n",
    "        if type == \"Circle\": return Circle()\n",
    "        if type == \"Square\": return Square()\n",
    "        assert 0, \"Bad shape creation: \" + type\n",
    "    factory = staticmethod(factory)\n",
    "\n",
    "class Circle(Shape):\n",
    "    def draw(self): print(\"Circle.draw\")\n",
    "    def erase(self): print(\"Circle.erase\")\n",
    "\n",
    "class Square(Shape):\n",
    "    def draw(self): print(\"Square.draw\")\n",
    "    def erase(self): print(\"Square.erase\")\n",
    "\n",
    "# Generate shape name strings:\n",
    "def shapeNameGen(n):\n",
    "    types = Shape.__subclasses__()\n",
    "    for i in range(n):\n",
    "        yield random.choice(types).__name__\n",
    "\n",
    "shapes = \\\n",
    "  [ Shape.factory(i) for i in shapeNameGen(7)]\n",
    "\n",
    "for shape in shapes:\n",
    "    shape.draw()\n",
    "    shape.erase()"
   ]
  },
  {
   "cell_type": "markdown",
   "metadata": {},
   "source": [
    "The factory( ) takes an argument that allows it to determine what type of Shape to create; it happens to be a String in this case but it could be any set of data. The factory( ) is now the only other code in the system that needs to be changed when a new type of Shape is added (the initialization data for the objects will presumably come from somewhere outside the system, and not be a hard-coded array as in the above example).\n",
    "\n",
    "Note that this example also shows the new Python 2.2 staticmethod( ) technique for creating static methods in a class."
   ]
  },
  {
   "cell_type": "markdown",
   "metadata": {},
   "source": [
    "## Preventing direct creation\n",
    "\n",
    "To disallow direct access to the classes, you can nest the classes within the factory method, like this:"
   ]
  },
  {
   "cell_type": "code",
   "execution_count": 116,
   "metadata": {},
   "outputs": [
    {
     "name": "stdout",
     "output_type": "stream",
     "text": [
      "Circle.draw\n",
      "Circle.erase\n",
      "Square.draw\n",
      "Square.erase\n",
      "Square.draw\n",
      "Square.erase\n",
      "Circle.draw\n",
      "Circle.erase\n",
      "Circle.draw\n",
      "Circle.erase\n",
      "Square.draw\n",
      "Square.erase\n",
      "Circle.draw\n",
      "Circle.erase\n"
     ]
    }
   ],
   "source": [
    "# Factory/shapefact1/NestedShapeFactory.py\n",
    "import random\n",
    "\n",
    "class Shape(object):\n",
    "    types = []\n",
    "\n",
    "def factory(type):\n",
    "    class Circle(Shape):\n",
    "        def draw(self): print(\"Circle.draw\")\n",
    "        def erase(self): print(\"Circle.erase\")\n",
    "\n",
    "    class Square(Shape):\n",
    "        def draw(self): print(\"Square.draw\")\n",
    "        def erase(self): print(\"Square.erase\")\n",
    "\n",
    "    if type == \"Circle\": return Circle()\n",
    "    if type == \"Square\": return Square()\n",
    "    assert 0, \"Bad shape creation: \" + type\n",
    "\n",
    "def shapeNameGen(n):\n",
    "    for i in range(n):\n",
    "        yield factory(random.choice([\"Circle\", \"Square\"]))\n",
    "\n",
    "# Circle() # Not defined\n",
    "\n",
    "for shape in shapeNameGen(7):\n",
    "    shape.draw()\n",
    "    shape.erase()"
   ]
  },
  {
   "cell_type": "markdown",
   "metadata": {},
   "source": [
    "## Abstract Factories\n",
    "\n",
    "the Abstract Factory pattern looks like the factory objects we’ve seen previously, with not one but several factory methods. Each of the factory methods creates a different kind of object. The idea is that at the point of creation of the factory object, you decide how all the objects created by that factory will be used. The example given in Design Patterns implements portability across various graphical user interfaces (GUIs): you create a factory object appropriate to the GUI that you’re working with, and from then on when you ask it for a menu, button, slider, etc. it will automatically create the appropriate version of that item for the GUI. Thus you’re able to isolate, in one place, the effect of changing from one GUI to another.\n",
    "\n",
    "As another example suppose you are creating a general-purpose gaming environment and you want to be able to support different types of games. Here’s how it might look using an abstract factory:"
   ]
  },
  {
   "cell_type": "code",
   "execution_count": 115,
   "metadata": {},
   "outputs": [
    {
     "name": "stdout",
     "output_type": "stream",
     "text": [
      "Puzzle\n",
      "Kitty has encountered a None\n",
      "NastyWeapon\n",
      "KungFuGuy now battles a None\n"
     ]
    }
   ],
   "source": [
    "\n",
    "class Obstacle:\n",
    "    def action(self): pass\n",
    "\n",
    "class Character:\n",
    "    def interactWith(self, obstacle): pass\n",
    "\n",
    "class Kitty(Character):\n",
    "    def interactWith(self, obstacle):\n",
    "        print(\"Kitty has encountered a\",\n",
    "        obstacle.action())\n",
    "\n",
    "class KungFuGuy(Character):\n",
    "    def interactWith(self, obstacle):\n",
    "        print(\"KungFuGuy now battles a\",\n",
    "        obstacle.action())\n",
    "\n",
    "class Puzzle(Obstacle):\n",
    "    def action(self):\n",
    "        print(\"Puzzle\")\n",
    "\n",
    "class NastyWeapon(Obstacle):\n",
    "    def action(self):\n",
    "        print(\"NastyWeapon\")\n",
    "\n",
    "# The Abstract Factory:\n",
    "class GameElementFactory:\n",
    "    def makeCharacter(self): pass\n",
    "    def makeObstacle(self): pass\n",
    "\n",
    "# Concrete factories:\n",
    "class KittiesAndPuzzles(GameElementFactory):\n",
    "    def makeCharacter(self): return Kitty()\n",
    "    def makeObstacle(self): return Puzzle()\n",
    "\n",
    "class KillAndDismember(GameElementFactory):\n",
    "    def makeCharacter(self): return KungFuGuy()\n",
    "    def makeObstacle(self): return NastyWeapon()\n",
    "\n",
    "class GameEnvironment:\n",
    "    def __init__(self, factory):\n",
    "        self.factory = factory\n",
    "        self.p = factory.makeCharacter()\n",
    "        self.ob = factory.makeObstacle()\n",
    "    def play(self):\n",
    "        self.p.interactWith(self.ob)\n",
    "\n",
    "g1 = GameEnvironment(KittiesAndPuzzles())\n",
    "g2 = GameEnvironment(KillAndDismember())\n",
    "g1.play()\n",
    "g2.play()\n",
    "\n"
   ]
  },
  {
   "cell_type": "markdown",
   "metadata": {},
   "source": [
    "In this environment, Character objects interact with Obstacle objects, but there are different types of Characters and obstacles depending on what kind of game you’re playing. You determine the kind of game by choosing a particular GameElementFactory, and then the GameEnvironment controls the setup and play of the game. In this example, the setup and play is very simple, but those activities (the initial conditions and the state change) can determine much of the game’s outcome. Here, GameEnvironment is not designed to be inherited, although it could very possibly make sense to do that."
   ]
  },
  {
   "cell_type": "code",
   "execution_count": null,
   "metadata": {},
   "outputs": [],
   "source": []
  },
  {
   "cell_type": "markdown",
   "metadata": {},
   "source": [
    "# Dask\n",
    "\n",
    "Dask is an Open Source project that gives you abstractions over NumPy Arrays, Pandas Dataframes and regular lists, allowing you to run operations on them in parallel, using multicore processing.\n",
    "\n",
    "We will use dask for:\n",
    "\n",
    "* Manipulating large datasets, even when those datasets don’t fit in memory\n",
    "* Accelerating long computations by using many cores\n",
    "* Distributed computing on large datasets with standard Pandas operations like groupby, join, and time series computations\n",
    "\n",
    "Dask provides us with :\n",
    "* A Symbolic, delayed , computational graph API\n",
    "* Distributed computation graph.\n",
    "* High level wrappers for numpy and pandas on top of Dask graphs\n",
    "\n",
    "\n",
    "sources:\n",
    "https://tutorial.dask.org/00_overview.html\n"
   ]
  },
  {
   "cell_type": "code",
   "execution_count": 22,
   "metadata": {},
   "outputs": [],
   "source": [
    "from dask.distributed import Client\n",
    "\n",
    "client = Client(n_workers=4)\n",
    "from time import sleep\n",
    "\n",
    "def inc(x):\n",
    "    sleep(1)\n",
    "    return x + 1\n",
    "\n",
    "def add(x, y):\n",
    "    sleep(1)\n",
    "    return x + y\n"
   ]
  },
  {
   "cell_type": "code",
   "execution_count": 23,
   "metadata": {},
   "outputs": [
    {
     "name": "stdout",
     "output_type": "stream",
     "text": [
      "CPU times: user 148 ms, sys: 68.5 ms, total: 216 ms\n",
      "Wall time: 3 s\n"
     ]
    }
   ],
   "source": [
    "%%time\n",
    "# This takes three seconds to run because we call each\n",
    "# function sequentially, one after the other\n",
    "\n",
    "x = inc(1)\n",
    "y = inc(2)\n",
    "z = add(x, y)"
   ]
  },
  {
   "cell_type": "markdown",
   "metadata": {},
   "source": [
    "Those two increment calls could be called in parallel, because they are totally independent of one-another.\n",
    "\n",
    "We’ll transform the inc and add functions using the dask.delayed function. When we call the delayed version by passing the arguments, exactly as before, but the original function isn’t actually called yet - which is why the cell execution finishes very quickly. Instead, a delayed object is made, which keeps track of the function to call and the arguments to pass to it."
   ]
  },
  {
   "cell_type": "code",
   "execution_count": 24,
   "metadata": {},
   "outputs": [
    {
     "name": "stderr",
     "output_type": "stream",
     "text": [
      "UsageError: Line magic function `%%time` not found.\n"
     ]
    }
   ],
   "source": [
    "from dask import delayed\n"
   ]
  },
  {
   "cell_type": "code",
   "execution_count": 25,
   "metadata": {},
   "outputs": [
    {
     "name": "stdout",
     "output_type": "stream",
     "text": [
      "CPU times: user 784 µs, sys: 319 µs, total: 1.1 ms\n",
      "Wall time: 962 µs\n"
     ]
    }
   ],
   "source": [
    "%%time\n",
    "# This runs immediately, all it does is build a graph\n",
    "\n",
    "x = delayed(inc)(1)\n",
    "y = delayed(inc)(2)\n",
    "z = delayed(add)(x, y)"
   ]
  },
  {
   "cell_type": "code",
   "execution_count": 26,
   "metadata": {},
   "outputs": [
    {
     "name": "stdout",
     "output_type": "stream",
     "text": [
      "CPU times: user 112 ms, sys: 55.1 ms, total: 167 ms\n",
      "Wall time: 2.03 s\n"
     ]
    },
    {
     "data": {
      "text/plain": [
       "5"
      ]
     },
     "execution_count": 26,
     "metadata": {},
     "output_type": "execute_result"
    }
   ],
   "source": [
    "%%time\n",
    "# This actually runs our computation using a local thread pool\n",
    "\n",
    "z.compute()"
   ]
  },
  {
   "cell_type": "code",
   "execution_count": 27,
   "metadata": {},
   "outputs": [
    {
     "data": {
      "text/plain": [
       "Delayed('add-442b560d-b33c-44a2-94be-5b4d677b7351')"
      ]
     },
     "execution_count": 27,
     "metadata": {},
     "output_type": "execute_result"
    }
   ],
   "source": [
    "z"
   ]
  },
  {
   "cell_type": "code",
   "execution_count": 28,
   "metadata": {},
   "outputs": [
    {
     "data": {
      "image/png": "[encoded data removed]",
      "text/plain": [
       "<IPython.core.display.Image object>"
      ]
     },
     "execution_count": 28,
     "metadata": {},
     "output_type": "execute_result"
    }
   ],
   "source": [
    "# Look at the task graph for `z`\n",
    "z.visualize()"
   ]
  },
  {
   "cell_type": "code",
   "execution_count": 29,
   "metadata": {},
   "outputs": [
    {
     "name": "stderr",
     "output_type": "stream",
     "text": [
      "UsageError: Line magic function `%%time` not found.\n"
     ]
    }
   ],
   "source": [
    "data = [1, 2, 3, 4, 5, 6, 7, 8]\n",
    "\n",
    "\n"
   ]
  },
  {
   "cell_type": "code",
   "execution_count": 30,
   "metadata": {},
   "outputs": [
    {
     "name": "stdout",
     "output_type": "stream",
     "text": [
      "CPU times: user 442 ms, sys: 139 ms, total: 580 ms\n",
      "Wall time: 8.01 s\n"
     ]
    }
   ],
   "source": [
    "%%time\n",
    "# Sequential code\n",
    "\n",
    "results = []\n",
    "for x in data:\n",
    "    y = inc(x)\n",
    "    results.append(y)\n",
    "\n",
    "total = sum(results)"
   ]
  },
  {
   "cell_type": "code",
   "execution_count": 106,
   "metadata": {},
   "outputs": [
    {
     "name": "stdout",
     "output_type": "stream",
     "text": [
      "Before computing: Delayed('sum-564a0f77-24ab-488b-8764-ccb56c871566')\n",
      "After computing : 44\n",
      "CPU times: user 93.9 ms, sys: 10.9 ms, total: 105 ms\n",
      "Wall time: 1.04 s\n"
     ]
    }
   ],
   "source": [
    "%%time \n",
    "results = []\n",
    "\n",
    "for x in data:\n",
    "    y = delayed(inc)(x)\n",
    "    results.append(y)\n",
    "\n",
    "total = delayed(sum)(results)\n",
    "print(\"Before computing:\", total)  # Let's see what type of thing total is\n",
    "result = total.compute()\n",
    "print(\"After computing :\", result)  # After it's computed"
   ]
  },
  {
   "cell_type": "markdown",
   "metadata": {},
   "source": [
    "Exercise: Parallelizing a for-loop code with control flow\n",
    "\n",
    "Often we want to delay only some functions, running a few of them immediately. This is especially helpful when those functions are fast and help us to determine what other slower functions we should call. This decision, to delay or not to delay, is usually where we need to be thoughtful when using dask.delayed.\n",
    "\n",
    "In the example below we iterate through a list of inputs. If that input is even then we want to call inc. If the input is odd then we want to call double. This is_even decision to call inc or double has to be made immediately (not lazily) in order for our graph-building Python code to proceed."
   ]
  },
  {
   "cell_type": "code",
   "execution_count": 107,
   "metadata": {},
   "outputs": [],
   "source": [
    "def double(x):\n",
    "    sleep(1)\n",
    "    return 2 * x\n",
    "\n",
    "def is_even(x):\n",
    "    return not x % 2\n",
    "\n",
    "data = [1, 2, 3, 4, 5, 6, 7, 8, 9, 10]\n",
    "\n"
   ]
  },
  {
   "cell_type": "code",
   "execution_count": 108,
   "metadata": {},
   "outputs": [
    {
     "name": "stdout",
     "output_type": "stream",
     "text": [
      "90\n",
      "CPU times: user 679 ms, sys: 55.8 ms, total: 734 ms\n",
      "Wall time: 10 s\n"
     ]
    }
   ],
   "source": [
    "%%time\n",
    "# Sequential code\n",
    "\n",
    "results = []\n",
    "for x in data:\n",
    "    if is_even(x):\n",
    "        y = double(x)\n",
    "    else:\n",
    "        y = inc(x)\n",
    "    results.append(y)\n",
    "\n",
    "total = sum(results)\n",
    "print(total)"
   ]
  },
  {
   "cell_type": "code",
   "execution_count": 109,
   "metadata": {},
   "outputs": [],
   "source": [
    "results = []\n",
    "for x in data:\n",
    "    if is_even(x):  # even\n",
    "        y = delayed(double)(x)\n",
    "    else:          # odd\n",
    "        y = delayed(inc)(x)\n",
    "    results.append(y)\n",
    "\n",
    "total = delayed(sum)(results)"
   ]
  },
  {
   "cell_type": "code",
   "execution_count": 110,
   "metadata": {},
   "outputs": [
    {
     "name": "stdout",
     "output_type": "stream",
     "text": [
      "CPU times: user 82.2 ms, sys: 15 ms, total: 97.3 ms\n",
      "Wall time: 1.03 s\n"
     ]
    },
    {
     "data": {
      "text/plain": [
       "90"
      ]
     },
     "execution_count": 110,
     "metadata": {},
     "output_type": "execute_result"
    }
   ],
   "source": [
    "%time total.compute()"
   ]
  },
  {
   "cell_type": "code",
   "execution_count": 111,
   "metadata": {},
   "outputs": [
    {
     "data": {
      "image/png": "[encoded data removed]",
      "text/plain": [
       "<IPython.core.display.Image object>"
      ]
     },
     "execution_count": 111,
     "metadata": {},
     "output_type": "execute_result"
    }
   ],
   "source": [
    "total.visualize()"
   ]
  },
  {
   "cell_type": "code",
   "execution_count": null,
   "metadata": {},
   "outputs": [],
   "source": []
  },
  {
   "cell_type": "markdown",
   "metadata": {},
   "source": [
    "How can we use  Dask for big data then?\n",
    "\n",
    "<img src =\"static/img/dask_pandas.png\">\n",
    "\n",
    "\n",
    "lets run some benchmarks"
   ]
  },
  {
   "cell_type": "code",
   "execution_count": 42,
   "metadata": {},
   "outputs": [],
   "source": [
    "# lets crete a very big dataframe \n",
    "import pandas as pd\n",
    "import time\n",
    "import dask.dataframe as ddf\n",
    "from tqdm import tqdm"
   ]
  },
  {
   "cell_type": "code",
   "execution_count": 91,
   "metadata": {},
   "outputs": [
    {
     "name": "stderr",
     "output_type": "stream",
     "text": [
      "100%|██████████| 1000000/1000000 [15:10<00:00, 1098.63it/s]\n"
     ]
    }
   ],
   "source": [
    "# tmp_df=pd.DataFrame(index=range(100),columns=[\"open\",\"close\",\"volume\"],data=np.random.rand(100,3))\n",
    "# random_df=pd.DataFrame()\n",
    "# tmp_df.to_csv(\"random_df.csv\",mode=\"a\")    \n",
    "    \n",
    "# for i in tqdm(range(1000000)):\n",
    "\n",
    "#     tmp_df.to_csv(\"random_df.csv\",mode=\"a\",header=False)    \n",
    "    "
   ]
  },
  {
   "cell_type": "code",
   "execution_count": 57,
   "metadata": {},
   "outputs": [],
   "source": [
    "def benchmark(function, function_name):\n",
    "    start = time.time()\n",
    "    function()\n",
    "    end = time.time()\n",
    "    print(\"{0} seconds for {1}\".format((end - start), function_name))"
   ]
  },
  {
   "cell_type": "code",
   "execution_count": 92,
   "metadata": {},
   "outputs": [
    {
     "name": "stderr",
     "output_type": "stream",
     "text": [
      "/home/jose/venv/p37_deep_trading/lib/python3.7/site-packages/IPython/core/interactiveshell.py:3063: DtypeWarning: Columns (1,2,3) have mixed types.Specify dtype option on import or set low_memory=False.\n",
      "  interactivity=interactivity, compiler=compiler, result=result)\n"
     ]
    }
   ],
   "source": [
    "\n",
    "\n",
    "df = ddf.read_csv('random_df.csv',header=0)\n",
    "dfo = pd.read_csv('random_df.csv')\n"
   ]
  },
  {
   "cell_type": "code",
   "execution_count": 93,
   "metadata": {},
   "outputs": [
    {
     "data": {
      "text/plain": [
       "4.000009792"
      ]
     },
     "execution_count": 93,
     "metadata": {},
     "output_type": "execute_result"
    }
   ],
   "source": [
    "dfo.memory_usage(index=True).sum()*1e-9"
   ]
  },
  {
   "cell_type": "code",
   "execution_count": null,
   "metadata": {},
   "outputs": [],
   "source": []
  },
  {
   "cell_type": "code",
   "execution_count": 94,
   "metadata": {},
   "outputs": [
    {
     "name": "stdout",
     "output_type": "stream",
     "text": [
      "0.011890411376953125 seconds for dask\n",
      "0.5206854343414307 seconds for pandas\n"
     ]
    }
   ],
   "source": [
    "def multipy(df):\n",
    "    df['mult'] = df['Unnamed: 0']*.5\n",
    "    \n",
    "def test_1():\n",
    "    multipy(df)\n",
    "def test_2():\n",
    "    multipy(dfo)\n",
    "\n",
    "benchmark(test_1, 'dask')\n",
    "benchmark(test_2, 'pandas')"
   ]
  },
  {
   "cell_type": "code",
   "execution_count": 95,
   "metadata": {},
   "outputs": [
    {
     "name": "stdout",
     "output_type": "stream",
     "text": [
      "13.203725337982178 seconds for dask\n",
      "0.6686611175537109 seconds for pandas\n"
     ]
    }
   ],
   "source": [
    "def get_big_mean():\n",
    "    return df['Unnamed: 0'].mean().compute()\n",
    "def get_big_mean_pandas():\n",
    "    return dfo['Unnamed: 0'].mean()\n",
    "\n",
    "benchmark(get_big_mean, 'dask')\n",
    "benchmark(get_big_mean_pandas, 'pandas')"
   ]
  },
  {
   "cell_type": "code",
   "execution_count": 96,
   "metadata": {},
   "outputs": [
    {
     "name": "stdout",
     "output_type": "stream",
     "text": [
      "28.48238468170166 seconds for dask\n",
      "32.527658462524414 seconds for pandas\n"
     ]
    }
   ],
   "source": [
    "def f(x):\n",
    "    return (13*x+5)%7\n",
    "\n",
    "def apply_random_pandas():\n",
    "    return  dfo['Unnamed: 0'].apply(f)\n",
    "    \n",
    "def apply_random():\n",
    "    return df['Unnamed: 0'].apply(f, meta=('Unnamed: 0', 'float64')).compute()\n",
    "    \n",
    "benchmark(apply_random, 'dask')\n",
    "benchmark(apply_random_pandas, 'pandas')"
   ]
  },
  {
   "cell_type": "code",
   "execution_count": 105,
   "metadata": {},
   "outputs": [
    {
     "data": {
      "text/plain": [
       "Dask Series Structure:\n",
       "npartitions=1\n",
       "    int64\n",
       "      ...\n",
       "dtype: int64\n",
       "Dask Name: series-groupby-sum-agg, 1089 tasks"
      ]
     },
     "execution_count": 105,
     "metadata": {},
     "output_type": "execute_result"
    }
   ],
   "source": [
    "# df3 = dd.concat([df for _ in range(500)])!!!"
   ]
  },
  {
   "cell_type": "markdown",
   "metadata": {},
   "source": [
    "# Best Practices\n",
    "\n",
    "## Persist Intelligently\n",
    "\n",
    "Often DataFrame workloads look like the following:\n",
    "\n",
    "    Load data from files\n",
    "    Filter data to a particular subset\n",
    "    Shuffle data to set an intelligent index\n",
    "    Several complex queries on top of this indexed data\n",
    "\n",
    "It is often ideal to load, filter, and shuffle data once and keep this result in memory. Afterwards, each of the several complex queries can be based off of this in-memory data rather than have to repeat the full load-filter-shuffle process each time. To do this, use the client.persist method:\n",
    "\n",
    "```\n",
    "df = dd.read_csv('s3://bucket/path/to/*.csv')\n",
    "df = df[df.balance < 0]\n",
    "df = client.persist(df)\n",
    "\n",
    "df = df.set_index('timestamp')\n",
    "df = client.persist(df)\n",
    "\n",
    "```"
   ]
  },
  {
   "cell_type": "markdown",
   "metadata": {},
   "source": [
    "##Avoid Full-Data Shuffling\n",
    "\n",
    "Setting an index is an important but expensive operation (see above). You should do it infrequently and you should persist afterwards (see below).\n",
    "\n",
    "Some operations like set_index and merge/join are harder to do in a parallel or distributed setting than if they are in-memory on a single machine. In particular, shuffling operations that rearrange data become much more communication intensive. For example, if your data is arranged by customer ID but now you want to arrange it by time, all of your partitions will have to talk to each other to exchange shards of data. This can be an intensive process, particularly on a cluster.\n",
    "\n",
    "So, definitely set the index but try do so infrequently. After you set the index, you may want to persist your data if you are on a cluster:\n",
    "\n",
    "```\n",
    "df = df.set_index('column_name')  # do this infrequently\n",
    "```\n"
   ]
  }
 ],
 "metadata": {
  "kernelspec": {
   "display_name": "p38_pipenv_class",
   "language": "python",
   "name": "p38_pipenv_class"
  },
  "language_info": {
   "codemirror_mode": {
    "name": "ipython",
    "version": 3
   },
   "file_extension": ".py",
   "mimetype": "text/x-python",
   "name": "python",
   "nbconvert_exporter": "python",
   "pygments_lexer": "ipython3",
   "version": "3.8.5"
  },
  "varInspector": {
   "cols": {
    "lenName": 16,
    "lenType": 16,
    "lenVar": 40
   },
   "kernels_config": {
    "python": {
     "delete_cmd_postfix": "",
     "delete_cmd_prefix": "del ",
     "library": "var_list.py",
     "varRefreshCmd": "print(var_dic_list())"
    },
    "r": {
     "delete_cmd_postfix": ") ",
     "delete_cmd_prefix": "rm(",
     "library": "var_list.r",
     "varRefreshCmd": "cat(var_dic_list()) "
    }
   },
   "types_to_exclude": [
    "module",
    "function",
    "builtin_function_or_method",
    "instance",
    "_Feature"
   ],
   "window_display": false
  }
 },
 "nbformat": 4,
 "nbformat_minor": 4
}
